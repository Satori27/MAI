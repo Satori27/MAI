{
  "nbformat": 4,
  "nbformat_minor": 0,
  "metadata": {
    "colab": {
      "provenance": []
    },
    "kernelspec": {
      "name": "python3",
      "display_name": "Python 3"
    },
    "language_info": {
      "name": "python"
    }
  },
  "cells": [
    {
      "cell_type": "code",
      "execution_count": 1,
      "metadata": {
        "id": "q6BvTovMU4pO"
      },
      "outputs": [],
      "source": [
        "import numpy as np\n",
        "import yaml"
      ]
    },
    {
      "cell_type": "code",
      "source": [
        "X = np.array([\n",
        "    [0, 1],\n",
        "    [1, 1],\n",
        "    [1, 0],\n",
        "    [-0.5, 0.5],\n",
        "    [0, -0.5]\n",
        "])\n",
        "\n",
        "y = np.array([1, 1, 1, -1, -1])\n",
        "\n",
        "theta0 = np.array([1.0, 1.0, 0.0])\n",
        "\n",
        "lr = 0.1\n",
        "\n",
        "def f(X, theta):\n",
        "    theta = np.asarray(theta)\n",
        "    return (X * theta[:2]).sum(axis=-1) + theta[2]\n",
        "\n",
        "def loss(X, y, theta):\n",
        "    theta = np.asarray(theta)\n",
        "    norm = (theta ** 2).sum()\n",
        "    deltas = y * f(X, theta)\n",
        "    return 0.1 * norm + np.mean(np.maximum(0, 1 - deltas))\n",
        "\n",
        "print(\"Prediction:\", f(X, theta0))\n",
        "print(\"Loss:\", loss(X, y, theta0))"
      ],
      "metadata": {
        "colab": {
          "base_uri": "https://localhost:8080/"
        },
        "id": "VfBugAvHU-4p",
        "outputId": "bedd2661-7ba8-40be-d9e8-2f3761b34cff"
      },
      "execution_count": 14,
      "outputs": [
        {
          "output_type": "stream",
          "name": "stdout",
          "text": [
            "Prediction: [ 1.   2.   1.   0.  -0.5]\n",
            "Loss: 0.5\n"
          ]
        }
      ]
    },
    {
      "cell_type": "code",
      "source": [
        "# def reduce(x, y):\n",
        "#   return [x[0]-y[0], x[1]-y[1], x[2]-y[2]]\n",
        "# def plus(x, y):\n",
        "#   return [x[0]+y[0], x[1]+y[1], x[2]+y[2]]\n",
        "# def mult(x, y):\n",
        "#   return [x[0]*y, x[1]*y, x[2]*y]"
      ],
      "metadata": {
        "id": "clpP-MU6VBip"
      },
      "execution_count": 13,
      "outputs": []
    },
    {
      "cell_type": "code",
      "source": [
        "def g(O):\n",
        "  return [O[0], O[1], 0]\n",
        "def step(X, y, theta):\n",
        "  gr = np.array([0.,0.,0.])\n",
        "  for i in range(3):\n",
        "    gr[i] = 0.2*theta[i]\n",
        "    for j in range(5):\n",
        "      s = 0\n",
        "      if (y[j] * f(X[j], theta) < 1):\n",
        "        if(i == 2):\n",
        "          s += y[j]\n",
        "        else:\n",
        "          s += y[j] * X[j][i]\n",
        "      gr[i] -= (1/5) * s\n",
        "  return gr"
      ],
      "metadata": {
        "id": "wg6O6QLQVDsK"
      },
      "execution_count": 28,
      "outputs": []
    },
    {
      "cell_type": "code",
      "source": [
        "for i in range(1000):\n",
        "  theta0 -= lr * step(X, y, theta0)\n",
        "\n",
        "print(\"Prediction:\", f(X, theta0))\n",
        "print(\"Loss:\", loss(X, y, theta0))\n",
        "\n",
        "with open(\"submission.yaml\", \"w\") as fp:\n",
        "    yaml.safe_dump({\"tasks\": [{\"task1\": {\"answer\": theta0.tolist()}}]}, fp)"
      ],
      "metadata": {
        "colab": {
          "base_uri": "https://localhost:8080/"
        },
        "id": "KqKW4EgDVFtS",
        "outputId": "48c8d4b3-7f9d-40f7-fba4-dbcc8345d8d5"
      },
      "execution_count": 30,
      "outputs": [
        {
          "output_type": "stream",
          "name": "stdout",
          "text": [
            "Prediction: [ 0.75395968  2.00791935  1.00791935 -0.37302016 -0.74604032]\n",
            "Loss: 0.4886910389573875\n"
          ]
        }
      ]
    }
  ]
}