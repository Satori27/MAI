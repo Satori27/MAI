{
  "cells": [
    {
      "cell_type": "markdown",
      "id": "5372eb6b",
      "metadata": {
        "id": "5372eb6b"
      },
      "source": [
        "# Домашняя работа по регуляризации и оптимизации\n",
        "\n",
        "Ниже приводится корпус данных с двумя метками: 1 и -1. К данным применяется линейная модель классификации:\n",
        "\n",
        "$f(x, \\theta) = x_1 \\theta_1 + x_2 \\theta_2 + \\theta_3.$\n",
        "\n",
        "Предлагается подобрать параметры $\\theta$ минимизируя следующую функцию ошибки:\n",
        "\n",
        "$\\mathcal{L}(\\theta) = 0.1 \\|\\theta\\|^2 + \\frac{1}{N}\\sum\\limits_{i=1}^N \\max(0, 1 - y_i f(x_i, \\theta)).$\n",
        "\n",
        "Для оптимизации предлагается использовать метод градиентного спуска с 1000 шагами размера $0.1$ из начальной точки $(1, 1, 0)$."
      ]
    },
    {
      "cell_type": "code",
      "execution_count": 1,
      "id": "84be44bf",
      "metadata": {
        "id": "84be44bf"
      },
      "outputs": [],
      "source": [
        "import numpy as np\n",
        "import yaml"
      ]
    },
    {
      "cell_type": "code",
      "execution_count": 2,
      "id": "8e381337",
      "metadata": {
        "colab": {
          "base_uri": "https://localhost:8080/"
        },
        "id": "8e381337",
        "outputId": "1659a1cd-9ec3-4ab1-c966-44e771787446"
      },
      "outputs": [
        {
          "output_type": "stream",
          "name": "stdout",
          "text": [
            "Prediction: [ 1.   2.   1.   0.  -0.5]\n",
            "Loss: 0.5\n"
          ]
        }
      ],
      "source": [
        "X = np.array([\n",
        "    [0, 1],\n",
        "    [1, 1],\n",
        "    [1, 0],\n",
        "    [-0.5, 0.5],\n",
        "    [0, -0.5]\n",
        "])\n",
        "\n",
        "y = np.array([1, 1, 1, -1, -1])\n",
        "\n",
        "theta0 = np.array([1.0, 1.0, 0.0])\n",
        "\n",
        "lr = 0.1\n",
        "\n",
        "def f(X, theta):\n",
        "    theta = np.asarray(theta)\n",
        "    return (X * theta[:2]).sum(axis=-1) + theta[2]\n",
        "\n",
        "def loss(X, y, theta):\n",
        "    theta = np.asarray(theta)\n",
        "    norm = (theta ** 2).sum()\n",
        "    deltas = y * f(X, theta)\n",
        "    return 0.1 * norm + np.mean(np.maximum(0, 1 - deltas))\n",
        "\n",
        "print(\"Prediction:\", f(X, theta0))\n",
        "print(\"Loss:\", loss(X, y, theta0))"
      ]
    },
    {
      "cell_type": "code",
      "source": [
        "def reduce(x, y):\n",
        "  return [x[0]-y[0], x[1]-y[1], x[2]-y[2]]\n",
        "def plus(x, y):\n",
        "  return [x[0]+y[0], x[1]+y[1], x[2]+y[2]]\n",
        "def mult(x, y):\n",
        "  return [x[0]*y, x[1]*y, x[2]*y]"
      ],
      "metadata": {
        "id": "pynOSisSVDrw"
      },
      "id": "pynOSisSVDrw",
      "execution_count": 3,
      "outputs": []
    },
    {
      "cell_type": "code",
      "source": [
        "def g(O):\n",
        "  return [O[0], O[1], 0]\n",
        "def step(x, lr=0.1):\n",
        "    return reduce(x, mult(g(x), lr))\n",
        "print(step([1,1,0]))\n",
        "# assert abs(step([1,1,0]) + 1.1986524106001828) < 1e-6"
      ],
      "metadata": {
        "colab": {
          "base_uri": "https://localhost:8080/"
        },
        "id": "h5YyOmjvUDlG",
        "outputId": "b1a6787c-7a9f-4cdf-c57f-acb1ab72218b"
      },
      "id": "h5YyOmjvUDlG",
      "execution_count": 4,
      "outputs": [
        {
          "output_type": "stream",
          "name": "stdout",
          "text": [
            "[0.9, 0.9, 0.0]\n"
          ]
        }
      ]
    },
    {
      "cell_type": "code",
      "source": [
        "x = [1,1,0]\n",
        "for _ in range(100):\n",
        "  x = step(x, lr=0.01) \n",
        "  \n",
        "x_final = x\n",
        "print(x_final)\n",
        "theta = np.array(x_final)\n",
        "print(\"Prediction:\", f(X, theta))\n",
        "print(\"Loss:\", loss(X, y, theta))\n",
        "\n",
        "with open(\"submission.yaml\", \"w\") as fp:\n",
        "    yaml.safe_dump({\"tasks\": [{\"task1\": {\"answer\": theta.tolist()}}]}, fp)"
      ],
      "metadata": {
        "colab": {
          "base_uri": "https://localhost:8080/"
        },
        "id": "RUJytjRCULe3",
        "outputId": "1e9d8197-ba71-4e13-f3dc-b67827b76009"
      },
      "id": "RUJytjRCULe3",
      "execution_count": 5,
      "outputs": [
        {
          "output_type": "stream",
          "name": "stdout",
          "text": [
            "[0.3660323412732296, 0.3660323412732296, 0.0]\n",
            "Prediction: [ 0.36603234  0.73206468  0.36603234  0.         -0.18301617]\n",
            "Loss: 0.6973668278256857\n"
          ]
        }
      ]
    },
    {
      "cell_type": "code",
      "source": [
        "def f1(x,teta):\n",
        "  return x[0]*teta[0]+x[1]*teta[1]+teta[2]\n",
        "x1 = [0,1,1,-0.5,0]\n",
        "x2 = [1,1,0,0.5,-0.5]\n",
        "y = [1,1,1,-1,-1]\n",
        "th_start = [1,1,0]\n",
        "theta0 = [2*th_start[0], 2*th_start[1], 2*th_start[2]]\n",
        "theta_res = theta0\n",
        "def step1(theta):\n",
        "  some = 0.2*np.array(theta)\n",
        "  sum = 0\n",
        "  for i in range(5):\n",
        "    if y[i]*f1([x1[i], x2[i]], theta0)>1:\n",
        "      continue;\n",
        "    else:\n",
        "      sum -= (y[i]*x1[i])\n",
        "  some += (1/5)*(sum)\n",
        "  return some\n",
        "\n",
        "\n",
        "print(step1(theta0[0]))\n",
        "print(step1(theta0[1]))\n",
        "print(step1(theta0[2]))"
      ],
      "metadata": {
        "colab": {
          "base_uri": "https://localhost:8080/"
        },
        "id": "LqJlqiExsJzJ",
        "outputId": "c1a094f3-a797-4049-a5e0-8f1f140d345b"
      },
      "id": "LqJlqiExsJzJ",
      "execution_count": 54,
      "outputs": [
        {
          "output_type": "stream",
          "name": "stdout",
          "text": [
            "0.30000000000000004\n",
            "0.30000000000000004\n",
            "-0.1\n"
          ]
        }
      ]
    },
    {
      "cell_type": "code",
      "source": [
        "x=theta0\n",
        "for _ in range(1000):\n",
        "  for i in range(3):\n",
        "    x[i] = x[i] - 0.1*(step1(x[i]))\n",
        "x = np.array(x)\n",
        "print(x)"
      ],
      "metadata": {
        "colab": {
          "base_uri": "https://localhost:8080/"
        },
        "id": "pY1rcurA0257",
        "outputId": "c61dfb5b-61ad-4679-8b4d-00a5763fcd2e"
      },
      "id": "pY1rcurA0257",
      "execution_count": 55,
      "outputs": [
        {
          "output_type": "stream",
          "name": "stdout",
          "text": [
            "[0.5 0.5 0.5]\n"
          ]
        }
      ]
    },
    {
      "cell_type": "code",
      "execution_count": null,
      "id": "ca79f1da",
      "metadata": {
        "id": "ca79f1da"
      },
      "outputs": [],
      "source": [
        "# Ваш код оптимизации.\n"
      ]
    },
    {
      "cell_type": "code",
      "execution_count": 56,
      "id": "011ca5b7",
      "metadata": {
        "colab": {
          "base_uri": "https://localhost:8080/"
        },
        "id": "011ca5b7",
        "outputId": "9c5da3a6-ef83-43aa-d148-5cb08b135b3b"
      },
      "outputs": [
        {
          "output_type": "stream",
          "name": "stdout",
          "text": [
            "Prediction: [1.   1.5  1.   0.5  0.25]\n",
            "Loss: 0.6249999998317033\n"
          ]
        }
      ],
      "source": [
        "print(\"Prediction:\", f(X, x))\n",
        "print(\"Loss:\", loss(X, y, x))\n",
        "\n",
        "with open(\"submission.yaml\", \"w\") as fp:\n",
        "    yaml.safe_dump({\"tasks\": [{\"task1\": {\"answer\": theta.tolist()}}]}, fp)"
      ]
    }
  ],
  "metadata": {
    "accelerator": "GPU",
    "colab": {
      "provenance": []
    },
    "kernelspec": {
      "display_name": "Python 3",
      "language": "python",
      "name": "python3"
    },
    "language_info": {
      "codemirror_mode": {
        "name": "ipython",
        "version": 3
      },
      "file_extension": ".py",
      "mimetype": "text/x-python",
      "name": "python",
      "nbconvert_exporter": "python",
      "pygments_lexer": "ipython3",
      "version": "3.8.9"
    }
  },
  "nbformat": 4,
  "nbformat_minor": 5
}